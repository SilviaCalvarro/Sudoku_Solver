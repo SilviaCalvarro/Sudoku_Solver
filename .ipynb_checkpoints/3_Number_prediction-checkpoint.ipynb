{
 "cells": [
  {
   "cell_type": "code",
   "execution_count": 14,
   "id": "d83e3c71",
   "metadata": {},
   "outputs": [],
   "source": [
    "import cv2\n",
    "import os\n",
    "import numpy as np\n",
    "import re"
   ]
  },
  {
   "cell_type": "markdown",
   "id": "546c4359",
   "metadata": {},
   "source": [
    "## 0. Funciones necesarias"
   ]
  },
  {
   "cell_type": "code",
   "execution_count": 15,
   "id": "a1d7bcef",
   "metadata": {},
   "outputs": [],
   "source": [
    "def load_images_from_folder(folder):\n",
    "    images = []\n",
    "    number = []\n",
    "    for filename in os.listdir(folder):\n",
    "        img = cv2.imread(os.path.join(folder,filename))\n",
    "        if img is not None:\n",
    "            img = modify_image(img)\n",
    "            images.append(img)\n",
    "            d = re.findall(r'[0-9]+', filename)\n",
    "            number.append(int(d[0]))\n",
    "    return images, number"
   ]
  },
  {
   "cell_type": "code",
   "execution_count": 16,
   "id": "8bcac689",
   "metadata": {},
   "outputs": [],
   "source": [
    "def modify_image(image):\n",
    "\n",
    "    #Procesamiento de imágenes\n",
    "    gray = cv2.resize(image, (28,28))\n",
    "    gray = cv2.cvtColor(gray, cv2.COLOR_BGR2GRAY)\n",
    "    thresh_number = cv2.adaptiveThreshold(gray, 255, cv2.ADAPTIVE_THRESH_GAUSSIAN_C, cv2.THRESH_BINARY, 15, 5)\n",
    "    thresh_number = 255 - thresh_number\n",
    "\n",
    "    #Normalización para CNN\n",
    "    thresh_number = np.expand_dims(thresh_number, 2)\n",
    "    thresh_number = thresh_number.astype('float32')\n",
    "    thresh_number = thresh_number / 255.0\n",
    "    \n",
    "    return thresh_number"
   ]
  },
  {
   "cell_type": "markdown",
   "id": "7f21a9be",
   "metadata": {},
   "source": [
    "## 1. Lectura del directorio con las imágenes a predecir"
   ]
  },
  {
   "cell_type": "code",
   "execution_count": 18,
   "id": "616418de",
   "metadata": {},
   "outputs": [],
   "source": [
    "images, number = load_images_from_folder('./images/numbers/')\n",
    "\n",
    "#Dimensión para CNN\n",
    "thresh_number = np.stack(images, axis = 0)"
   ]
  },
  {
   "cell_type": "code",
   "execution_count": null,
   "id": "a65512dd",
   "metadata": {},
   "outputs": [],
   "source": [
    "cv2.imshow('number', thresh_number[0])\n",
    "cv2.waitKey()"
   ]
  },
  {
   "attachments": {
    "imagen.png": {
     "image/png": "[encoded data removed]"
    }
   },
   "cell_type": "markdown",
   "id": "3e4fa323",
   "metadata": {},
   "source": [
    "![imagen.png](attachment:imagen.png)"
   ]
  },
  {
   "cell_type": "code",
   "execution_count": 21,
   "id": "9741f878",
   "metadata": {},
   "outputs": [
    {
     "data": {
      "text/plain": [
       "(27, 28, 28, 1)"
      ]
     },
     "execution_count": 21,
     "metadata": {},
     "output_type": "execute_result"
    }
   ],
   "source": [
    "#Dimensión del conjunto de entrada a la CNN\n",
    "thresh_number.shape"
   ]
  },
  {
   "cell_type": "markdown",
   "id": "11e5c330",
   "metadata": {},
   "source": [
    "## 2. Cargado del modelo entrenado"
   ]
  },
  {
   "cell_type": "code",
   "execution_count": 22,
   "id": "91c21017",
   "metadata": {},
   "outputs": [],
   "source": [
    "from keras.models import load_model\n",
    "\n",
    "model = load_model('mnist_CNN_model.h5')"
   ]
  },
  {
   "cell_type": "markdown",
   "id": "c3706139",
   "metadata": {},
   "source": [
    "## 3. Predicción de la CNN"
   ]
  },
  {
   "cell_type": "code",
   "execution_count": 26,
   "id": "921427b7",
   "metadata": {},
   "outputs": [
    {
     "data": {
      "text/plain": [
       "(27, 10)"
      ]
     },
     "execution_count": 26,
     "metadata": {},
     "output_type": "execute_result"
    }
   ],
   "source": [
    "predictions = model.predict(x = thresh_number, steps = len(thresh_number), \n",
    "                            verbose = 0)\n",
    "\n",
    "#Dimensión\n",
    "predictions.shape"
   ]
  },
  {
   "cell_type": "markdown",
   "id": "636b0197",
   "metadata": {},
   "source": [
    "## 4. Creación de formato de entrada del resolvedor"
   ]
  },
  {
   "cell_type": "code",
   "execution_count": 29,
   "id": "87d58ff0",
   "metadata": {},
   "outputs": [
    {
     "data": {
      "text/plain": [
       "array([[0., 0., 4., 0., 2., 0., 8., 3., 0.],\n",
       "       [0., 3., 0., 0., 0., 4., 0., 0., 0.],\n",
       "       [0., 0., 0., 0., 0., 0., 0., 0., 1.],\n",
       "       [4., 0., 0., 0., 0., 6., 7., 0., 3.],\n",
       "       [6., 0., 0., 7., 3., 8., 0., 0., 9.],\n",
       "       [7., 0., 3., 5., 0., 0., 0., 0., 8.],\n",
       "       [5., 0., 0., 0., 0., 0., 0., 0., 0.],\n",
       "       [0., 0., 0., 8., 0., 0., 0., 2., 0.],\n",
       "       [0., 2., 1., 0., 9., 0., 6., 0., 0.]])"
      ]
     },
     "execution_count": 29,
     "metadata": {},
     "output_type": "execute_result"
    }
   ],
   "source": [
    "#Vector con 81 posiciones. Rellenar con predicciones\n",
    "sudoku_matrix = np.zeros(81)\n",
    "\n",
    "for i, j in zip(number, range(len(predictions))):\n",
    "    sudoku_matrix[i] = predictions[j].argmax()\n",
    "    \n",
    "#Matriz 9x9\n",
    "sudoku_matrix.resize(9,9)\n",
    "sudoku_matrix"
   ]
  },
  {
   "cell_type": "markdown",
   "id": "0fe48a60",
   "metadata": {},
   "source": [
    "## 5. Guardado de la matriz"
   ]
  },
  {
   "cell_type": "code",
   "execution_count": 30,
   "id": "56761351",
   "metadata": {},
   "outputs": [],
   "source": [
    "np.save('sudoku_matrix.npy', sudoku_matrix)"
   ]
  }
 ],
 "metadata": {
  "kernelspec": {
   "display_name": "Python 3 (ipykernel)",
   "language": "python",
   "name": "python3"
  },
  "language_info": {
   "codemirror_mode": {
    "name": "ipython",
    "version": 3
   },
   "file_extension": ".py",
   "mimetype": "text/x-python",
   "name": "python",
   "nbconvert_exporter": "python",
   "pygments_lexer": "ipython3",
   "version": "3.9.7"
  }
 },
 "nbformat": 4,
 "nbformat_minor": 5
}
